{
 "cells": [
  {
   "cell_type": "code",
   "execution_count": 1,
   "id": "d3a7a6a2-dfbf-485f-9eff-56316772c163",
   "metadata": {},
   "outputs": [],
   "source": [
    "import ROOT, math"
   ]
  },
  {
   "cell_type": "code",
   "execution_count": 2,
   "id": "a77ee25e-e182-4fe7-bfa1-2200d892ff89",
   "metadata": {},
   "outputs": [],
   "source": [
    "FileMBGen  = ROOT.TFile(\"Input/MinBiasMC_Gen.root\")\n",
    "FileMBReco = ROOT.TFile(\"Input/MinBiasMC_Reco.root\")\n",
    "FileDYGen  = ROOT.TFile(\"Input/DYLLMC_Gen.root\")\n",
    "FileDYReco = ROOT.TFile(\"Input/DYLLMC_Reco.root\")\n",
    "FilePPGen  = ROOT.TFile(\"Input/PPMC_Gen.root\")\n",
    "FilePPReco = ROOT.TFile(\"Input/PPMC_Reco.root\")\n",
    "\n",
    "def CleanUp():\n",
    "    FileMBGen.Close()\n",
    "    FileMBReco.Close()\n",
    "    FileDYGen.Close()\n",
    "    FileDYReco.Close()\n",
    "    FilePPGen.Close()\n",
    "    FilePPReco.Close()\n",
    "\n",
    "TreeMBGen  = FileMBGen.Get(\"Tree\")\n",
    "TreeMBReco = FileMBReco.Get(\"Tree\")\n",
    "TreeDYGen  = FileDYGen.Get(\"Tree\")\n",
    "TreeDYReco = FileDYReco.Get(\"Tree\")\n",
    "TreePPGen  = FilePPGen.Get(\"Tree\")\n",
    "TreePPReco = FilePPReco.Get(\"Tree\")"
   ]
  },
  {
   "cell_type": "code",
   "execution_count": 16,
   "id": "11848d8d-e8ca-4ee9-a512-18dce1048b7a",
   "metadata": {},
   "outputs": [
    {
     "name": "stderr",
     "output_type": "stream",
     "text": [
      "Warning in <TCanvas::Constructor>: Deleting canvas with same name: Canvas\n"
     ]
    }
   ],
   "source": [
    "Canvas = ROOT.TCanvas(\"Canvas\", \"\", 1024, 1024)\n",
    "Canvas.SetLeftMargin(0.15)"
   ]
  },
  {
   "cell_type": "code",
   "execution_count": 4,
   "id": "b6f7d125-1ed9-4467-9c34-924c4c9e1bed",
   "metadata": {},
   "outputs": [
    {
     "name": "stdout",
     "output_type": "stream",
     "text": [
      "PP Gen =  746.3031575773562\n",
      "PP Reco =  1267.6932273098503\n",
      "PP Reco (PU = 0) =  742.1277792948157\n",
      "PP Reco (PV = 1) =  761.4495308329263\n",
      "Embedded Gen SubEvent0 =  744.6068381789274\n"
     ]
    },
    {
     "data": {
      "image/png": "[encoded data removed]",
      "text/plain": [
       "<IPython.core.display.Image object>"
      ]
     },
     "metadata": {},
     "output_type": "display_data"
    }
   ],
   "source": [
    "# First let's start by looking at HF distributions for a few different things\n",
    "\n",
    "HPPGenHF = ROOT.TH1D(\"HPPGenHF\", \";SumHF;Counts\", 100, 0, 7000)\n",
    "HPPRecoHF = ROOT.TH1D(\"HPPRecoHF\", \"\", 100, 0, 7000)\n",
    "HPPRecoPU0HF = ROOT.TH1D(\"HPPRecoPU0HF\", \"\", 100, 0, 7000)\n",
    "HPPRecoPV1HF = ROOT.TH1D(\"HPPRecoPV1HF\", \"\", 100, 0, 7000)\n",
    "HDYSubEvent0HF = ROOT.TH1D(\"HDYSubEvent0HF\", \"\", 100, 0, 7000)\n",
    "\n",
    "HPPGenHF.SetStats(0)\n",
    "\n",
    "HPPGenHF.SetLineColor(ROOT.kRed)\n",
    "HPPRecoHF.SetLineColor(ROOT.kBlue)\n",
    "HPPRecoPU0HF.SetLineColor(ROOT.kCyan)\n",
    "HPPRecoPV1HF.SetLineColor(ROOT.kYellow + 3)\n",
    "HDYSubEvent0HF.SetLineColor(ROOT.kGreen + 3)\n",
    "\n",
    "TreePPGen.Draw(\"SignalHF>>HPPGenHF\", \"genZPt[0] > 40\")\n",
    "TreePPReco.Draw(\"SignalHF>>HPPRecoHF\", \"zPt[0] > 40\", \"same\")\n",
    "TreePPReco.Draw(\"SignalHF>>HPPRecoPU0HF\", \"NPU == 0 && zPt[0] > 40\", \"same\")\n",
    "TreePPReco.Draw(\"SignalHF>>HPPRecoPV1HF\", \"NVertex == 1 && zPt[0] > 40\", \"same\")\n",
    "TreeDYGen.Draw(\"SubEvent0HF>>HDYSubEvent0HF\", \"genZPt[0] > 40\", \"same\")\n",
    "\n",
    "Legend = ROOT.TLegend(0.55, 0.85, 0.85, 0.55)\n",
    "Legend.SetFillStyle(0)\n",
    "Legend.SetTextFont(42)\n",
    "Legend.SetTextSize(0.035)\n",
    "Legend.SetBorderSize(0)\n",
    "Legend.AddEntry(HPPGenHF, \"pp MC gen\", \"l\")\n",
    "Legend.AddEntry(HPPRecoHF, \"pp MC reco\", \"l\")\n",
    "Legend.AddEntry(HPPRecoPU0HF, \"pp MC reco (NPU = 0)\", \"l\")\n",
    "Legend.AddEntry(HPPRecoPV1HF, \"pp MC reco (NPV = 1)\", \"l\")\n",
    "Legend.AddEntry(HDYSubEvent0HF, \"DYLL MC gen subevent 0\", \"l\")\n",
    "Legend.Draw()\n",
    "\n",
    "Canvas.SetLogy()\n",
    "Canvas.Draw()\n",
    "\n",
    "print(\"PP Gen = \", HPPGenHF.GetMean())\n",
    "print(\"PP Reco = \", HPPRecoHF.GetMean())\n",
    "print(\"PP Reco (PU = 0) = \", HPPRecoPU0HF.GetMean())\n",
    "print(\"PP Reco (PV = 1) = \", HPPRecoPV1HF.GetMean())\n",
    "print(\"Embedded Gen SubEvent0 = \", HDYSubEvent0HF.GetMean())\n"
   ]
  },
  {
   "cell_type": "code",
   "execution_count": 19,
   "id": "40ad0ebc-879f-442f-992d-c7dc8076271e",
   "metadata": {},
   "outputs": [
    {
     "name": "stderr",
     "output_type": "stream",
     "text": [
      "Warning in <TFile::Append>: Replacing existing TH1: PSignalHFVsNPV (Potential memory leak).\n",
      "Warning in <TFile::Append>: Replacing existing TH1: PSignalHFVsNPU (Potential memory leak).\n",
      "Info in <TCanvas::Print>: pdf file MCEHF.pdf has been created\n"
     ]
    }
   ],
   "source": [
    "PSignalHFVsNPV = ROOT.TProfile(\"PSignalHFVsNPV\", \";Number of vertex or added pileup;#LTHF Energy#GT\", 9, 0, 9)\n",
    "PSignalHFVsNPU = ROOT.TProfile(\"PSignalHFVsNPU\", \";Number of vertex or added pileup;#LTHF Energy#GT\", 9, 0, 9)\n",
    "\n",
    "TreePPReco.Draw(\"SignalHF:NVertex>>PSignalHFVsNPV\", \"zPt[0] > 40\", \"prof text0\")\n",
    "TreePPReco.Draw(\"SignalHF:NPU>>PSignalHFVsNPU\", \"zPt[0] > 40\", \"prof text0 same\")\n",
    "\n",
    "PSignalHFVsNPV.SetStats(0)\n",
    "PSignalHFVsNPV.SetMaximum(3250)\n",
    "\n",
    "PSignalHFVsNPV.SetLineWidth(2)\n",
    "PSignalHFVsNPV.SetMarkerStyle(20)\n",
    "PSignalHFVsNPV.SetMarkerColor(ROOT.kRed)\n",
    "PSignalHFVsNPV.SetLineColor(ROOT.kRed)\n",
    "PSignalHFVsNPU.SetLineWidth(2)\n",
    "PSignalHFVsNPU.SetMarkerStyle(20)\n",
    "PSignalHFVsNPU.SetMarkerColor(ROOT.kBlue)\n",
    "PSignalHFVsNPU.SetLineColor(ROOT.kBlue)\n",
    "\n",
    "Legend = ROOT.TLegend(0.20, 0.85, 0.45, 0.75)\n",
    "Legend.SetFillStyle(0)\n",
    "Legend.SetTextFont(42)\n",
    "Legend.SetTextSize(0.035)\n",
    "Legend.SetBorderSize(0)\n",
    "Legend.AddEntry(PSignalHFVsNPV, \"Number of vertices\", \"l\")\n",
    "Legend.AddEntry(PSignalHFVsNPU, \"Number of added pileup collisions\", \"l\")\n",
    "Legend.Draw()\n",
    "\n",
    "Latex = ROOT.TLatex()\n",
    "Latex.SetTextFont(42)\n",
    "Latex.SetTextSize(0.035)\n",
    "Latex.SetNDC()\n",
    "Latex.SetTextAlign(11)\n",
    "Latex.DrawLatex(0.15, 0.91, \"#font[62]{#scale[1.2]{CMS}} #font[52]{Simulation Preliminary}\")\n",
    "Latex.SetTextAlign(31)\n",
    "Latex.DrawLatex(0.90, 0.91, \"5.02 TeV\")\n",
    "\n",
    "Canvas.SetLogy(False)\n",
    "# Canvas.SaveAs(\"MCEHF.pdf\")\n",
    "Canvas.Draw()"
   ]
  },
  {
   "cell_type": "code",
   "execution_count": 31,
   "id": "f5ef3815-b448-42a4-bea9-80de515dbbb3",
   "metadata": {},
   "outputs": [
    {
     "name": "stdout",
     "output_type": "stream",
     "text": [
      " FCN=6.71956 FROM MIGRAD    STATUS=CONVERGED      14 CALLS          15 TOTAL\n",
      "                     EDM=3.20446e-14    STRATEGY= 1      ERROR MATRIX ACCURATE \n",
      "  EXT PARAMETER                                   STEP         FIRST   \n",
      "  NO.   NAME      VALUE            ERROR          SIZE      DERIVATIVE \n",
      "   1  p0           7.61892e+02   1.70113e+00   3.72025e-03  -1.48818e-07\n",
      " FCN=6.3861 FROM MIGRAD    STATUS=CONVERGED      14 CALLS          15 TOTAL\n",
      "                     EDM=9.32288e-15    STRATEGY= 1      ERROR MATRIX ACCURATE \n",
      "  EXT PARAMETER                                   STEP         FIRST   \n",
      "  NO.   NAME      VALUE            ERROR          SIZE      DERIVATIVE \n",
      "   1  p0           7.43483e+02   1.95379e+00   3.63038e-03  -6.98897e-08\n"
     ]
    },
    {
     "name": "stderr",
     "output_type": "stream",
     "text": [
      "Warning in <TFile::Append>: Replacing existing TH1: PSignalHFVsZPT_NPV1 (Potential memory leak).\n",
      "Warning in <TFile::Append>: Replacing existing TH1: PSignalHFVsZPT_NPU0 (Potential memory leak).\n",
      "Info in <TCanvas::Print>: pdf file MCEHFPT.pdf has been created\n"
     ]
    }
   ],
   "source": [
    "PSignalHFVsZPT_NPV1 = ROOT.TProfile(\"PSignalHFVsZPT_NPV1\", \";Z p_{T};#LTHF Energy#GT\", 16, 30, 90)\n",
    "PSignalHFVsZPT_NPU0 = ROOT.TProfile(\"PSignalHFVsZPT_NPU0\", \"\", 16, 30, 90)\n",
    "\n",
    "PSignalHFVsZPT_NPV1.SetStats(0)\n",
    "PSignalHFVsZPT_NPU0.SetStats(0)\n",
    "\n",
    "PSignalHFVsZPT_NPV1.SetMarkerStyle(20)\n",
    "PSignalHFVsZPT_NPV1.SetMarkerColor(ROOT.kRed)\n",
    "PSignalHFVsZPT_NPV1.SetLineColor(ROOT.kRed)\n",
    "PSignalHFVsZPT_NPU0.SetMarkerStyle(20)\n",
    "PSignalHFVsZPT_NPU0.SetMarkerColor(ROOT.kBlue)\n",
    "PSignalHFVsZPT_NPU0.SetLineColor(ROOT.kBlue)\n",
    "\n",
    "TreePPReco.Draw(\"SignalHF:zPt[0]>>PSignalHFVsZPT_NPV1\", \"NVertex == 1\", \"prof\")\n",
    "TreePPReco.Draw(\"SignalHF:zPt[0]>>PSignalHFVsZPT_NPU0\", \"NPU == 0\", \"prof same\")\n",
    "\n",
    "PSignalHFVsZPT_NPV1.SetMinimum(650)\n",
    "PSignalHFVsZPT_NPV1.SetMaximum(900)\n",
    "\n",
    "FSignalHFVsZPT_NPV1 = ROOT.TF1(\"FSignalHFVsZPT_NPV1\", \"[0]\", 0, 100)\n",
    "FSignalHFVsZPT_NPU0 = ROOT.TF1(\"FSignalHFVsZPT_NPU0\", \"[0]\", 0, 100)\n",
    "\n",
    "FSignalHFVsZPT_NPV1.SetLineColor(ROOT.kRed + 1)\n",
    "FSignalHFVsZPT_NPU0.SetLineColor(ROOT.kBlue + 1)\n",
    "\n",
    "PSignalHFVsZPT_NPV1.Fit(FSignalHFVsZPT_NPV1)\n",
    "PSignalHFVsZPT_NPU0.Fit(FSignalHFVsZPT_NPU0)\n",
    "\n",
    "Legend = ROOT.TLegend(0.20, 0.85, 0.45, 0.75)\n",
    "Legend.SetFillStyle(0)\n",
    "Legend.SetTextFont(42)\n",
    "Legend.SetTextSize(0.035)\n",
    "Legend.SetBorderSize(0)\n",
    "Legend.AddEntry(PSignalHFVsZPT_NPV1, \"Number of Vertex = 1\", \"l\")\n",
    "Legend.AddEntry(PSignalHFVsZPT_NPU0, \"Number of added pileup = 0\", \"l\")\n",
    "Legend.Draw()\n",
    "\n",
    "Latex.SetTextAlign(11)\n",
    "Latex.DrawLatex(0.15, 0.91, \"#font[62]{#scale[1.2]{CMS}} #font[52]{Simulation Preliminary}\")\n",
    "Latex.SetTextAlign(31)\n",
    "Latex.DrawLatex(0.90, 0.91, \"5.02 TeV\")\n",
    "\n",
    "Canvas.SetLogy(False)\n",
    "Canvas.SaveAs(\"MCEHFPT.pdf\")\n",
    "Canvas.Draw()"
   ]
  },
  {
   "cell_type": "code",
   "execution_count": 6,
   "id": "c2b474f5-1430-4175-9508-cc42d41f159c",
   "metadata": {},
   "outputs": [
    {
     "data": {
      "text/plain": [
       "True"
      ]
     },
     "execution_count": 6,
     "metadata": {},
     "output_type": "execute_result"
    },
    {
     "name": "stdout",
     "output_type": "stream",
     "text": [
      " FCN=100.181 FROM MIGRAD    STATUS=CONVERGED    1082 CALLS        1083 TOTAL\n",
      "                     EDM=4.48243e-09    STRATEGY= 1      ERROR MATRIX ACCURATE \n",
      "  EXT PARAMETER                                   STEP         FIRST   \n",
      "  NO.   NAME      VALUE            ERROR          SIZE      DERIVATIVE \n",
      "   1  p0           7.63154e+02   1.84152e+00   3.66096e-03   3.05812e-06\n",
      "   2  p1           1.01300e+02   2.71407e+00   7.79492e-03   1.66604e-05\n",
      "   3  p2           9.66647e-02   6.57148e-03   1.32287e-05  -1.37607e-02\n",
      " FCN=82.6348 FROM MIGRAD    STATUS=CONVERGED     616 CALLS         617 TOTAL\n",
      "                     EDM=4.38493e-08    STRATEGY= 1      ERROR MATRIX ACCURATE \n",
      "  EXT PARAMETER                                   STEP         FIRST   \n",
      "  NO.   NAME      VALUE            ERROR          SIZE      DERIVATIVE \n",
      "   1  p0           7.44308e+02   2.04657e+00   3.81003e-03  -6.69996e-05\n",
      "   2  p1           1.00104e+02   3.15524e+00   8.26326e-03   1.13299e-04\n",
      "   3  p2           1.01191e-01   7.86634e-03   1.45926e-05  -4.08789e-02\n"
     ]
    },
    {
     "data": {
      "image/png": "[encoded data removed]",
      "text/plain": [
       "<IPython.core.display.Image object>"
      ]
     },
     "metadata": {},
     "output_type": "display_data"
    }
   ],
   "source": [
    "PSignalHFVsZPT_NPV1 = ROOT.TProfile(\"PSignalHFVsZPT_NPV1\", \";Z PT;SignalHF\", 100, 0, 100)\n",
    "PSignalHFVsZPT_NPU0 = ROOT.TProfile(\"PSignalHFVsZPT_NPU0\", \"\", 100, 0, 100)\n",
    "\n",
    "PSignalHFVsZPT_NPV1.SetStats(0)\n",
    "PSignalHFVsZPT_NPU0.SetStats(0)\n",
    "\n",
    "PSignalHFVsZPT_NPV1.SetMarkerStyle(20)\n",
    "PSignalHFVsZPT_NPV1.SetMarkerColor(ROOT.kRed)\n",
    "PSignalHFVsZPT_NPV1.SetLineColor(ROOT.kRed)\n",
    "PSignalHFVsZPT_NPU0.SetMarkerStyle(20)\n",
    "PSignalHFVsZPT_NPU0.SetMarkerColor(ROOT.kBlue)\n",
    "PSignalHFVsZPT_NPU0.SetLineColor(ROOT.kBlue)\n",
    "\n",
    "TreePPReco.Draw(\"SignalHF:zPt[0]>>PSignalHFVsZPT_NPV1\", \"NVertex == 1 && zPt[0] < 100\", \"prof\")\n",
    "TreePPReco.Draw(\"SignalHF:zPt[0]>>PSignalHFVsZPT_NPU0\", \"NPU == 0 && zPt[0] < 100\", \"prof same\")\n",
    "\n",
    "FSignalHFVsZPT_NPV1 = ROOT.TF1(\"FSignalHFVsZPT_NPV1\", \"[0]-[1]*exp(-[2]*x)\", 0, 100)\n",
    "FSignalHFVsZPT_NPU0 = ROOT.TF1(\"FSignalHFVsZPT_NPU0\", \"[0]-[1]*exp(-[2]*x)\", 0, 100)\n",
    "\n",
    "FSignalHFVsZPT_NPV1.SetLineColor(ROOT.kRed + 1)\n",
    "FSignalHFVsZPT_NPU0.SetLineColor(ROOT.kBlue + 1)\n",
    "\n",
    "PSignalHFVsZPT_NPV1.Fit(FSignalHFVsZPT_NPV1)\n",
    "PSignalHFVsZPT_NPU0.Fit(FSignalHFVsZPT_NPU0)\n",
    "\n",
    "Legend = ROOT.TLegend(0.15, 0.85, 0.45, 0.75)\n",
    "Legend.SetFillStyle(0)\n",
    "Legend.SetTextFont(42)\n",
    "Legend.SetTextSize(0.035)\n",
    "Legend.SetBorderSize(0)\n",
    "Legend.AddEntry(PSignalHFVsZPT_NPV1, \"NPV = 1\", \"l\")\n",
    "Legend.AddEntry(PSignalHFVsZPT_NPU0, \"NPU = 0\", \"l\")\n",
    "Legend.Draw()\n",
    "\n",
    "Canvas.SetLogy(False)\n",
    "Canvas.Draw()\n",
    "\n",
    "TreePPReco.SetAlias(\"NPVZPTShift\", f\"({FSignalHFVsZPT_NPV1.GetParameter(0)}-{FSignalHFVsZPT_NPV1.GetParameter(1)}*exp(-{FSignalHFVsZPT_NPV1.GetParameter(2)}*zPt[0]))\")\n",
    "TreePPReco.SetAlias(\"NPUZPTShift\", f\"({FSignalHFVsZPT_NPU0.GetParameter(0)}-{FSignalHFVsZPT_NPU0.GetParameter(1)}*exp(-{FSignalHFVsZPT_NPU0.GetParameter(2)}*zPt[0]))\")\n",
    "TreeDYReco.SetAlias(\"NPVZPTShift\", f\"({FSignalHFVsZPT_NPV1.GetParameter(0)}-{FSignalHFVsZPT_NPV1.GetParameter(1)}*exp(-{FSignalHFVsZPT_NPV1.GetParameter(2)}*zPt[0]))\")\n",
    "TreeDYReco.SetAlias(\"NPUZPTShift\", f\"({FSignalHFVsZPT_NPU0.GetParameter(0)}-{FSignalHFVsZPT_NPU0.GetParameter(1)}*exp(-{FSignalHFVsZPT_NPU0.GetParameter(2)}*zPt[0]))\")"
   ]
  },
  {
   "cell_type": "code",
   "execution_count": 19,
   "id": "201d64a4-6438-459f-8809-287153706667",
   "metadata": {},
   "outputs": [
    {
     "name": "stderr",
     "output_type": "stream",
     "text": [
      "Warning in <TFile::Append>: Replacing existing TH1: PDYSignalHFVsAll_NPU (Potential memory leak).\n",
      "Warning in <TFile::Append>: Replacing existing TH1: PDYSignalHFVsAll_NPV (Potential memory leak).\n",
      "Warning in <TFile::Append>: Replacing existing TH1: PMBSignalHFVsAll (Potential memory leak).\n"
     ]
    },
    {
     "data": {
      "image/png": "[encoded data removed]",
      "text/plain": [
       "<IPython.core.display.Image object>"
      ]
     },
     "metadata": {},
     "output_type": "display_data"
    }
   ],
   "source": [
    "PDYSignalHFVsAll_NPU = ROOT.TProfile(\"PDYSignalHFVsAll_NPU\", \";Non-signal generated SumHF;Mean SumHF\", 100, 0, 180000)\n",
    "PDYSignalHFVsAll_NPV = ROOT.TProfile(\"PDYSignalHFVsAll_NPV\", \"\", 100, 0, 180000)\n",
    "PMBSignalHFVsAll = ROOT.TProfile(\"PMBSignalHFVsAll\", \"\", 100, 0, 180000)\n",
    "\n",
    "PDYSignalHFVsAll_NPU.SetLineColor(ROOT.kBlue)\n",
    "PDYSignalHFVsAll_NPV.SetLineColor(ROOT.kRed)\n",
    "PMBSignalHFVsAll.SetLineColor(ROOT.kGreen)\n",
    "\n",
    "PDYSignalHFVsAll_NPU.SetStats(0)\n",
    "PDYSignalHFVsAll_NPV.SetStats(0)\n",
    "PMBSignalHFVsAll.SetStats(0)\n",
    "\n",
    "TreeDYReco.Draw(\"SignalHF-NPUZPTShift:SubEventAllHF-SubEvent0HF>>PDYSignalHFVsAll_NPU\", \"zPt[0] > 20\", \"prof\")\n",
    "TreeDYReco.Draw(\"SignalHF-NPVZPTShift:SubEventAllHF-SubEvent0HF>>PDYSignalHFVsAll_NPV\", \"zPt[0] > 20\", \"prof same\")\n",
    "TreeMBReco.Draw(\"SignalHF:SubEventAllHF>>PMBSignalHFVsAll\", \"\", \"prof same\")\n",
    "\n",
    "Legend = ROOT.TLegend(0.15, 0.85, 0.45, 0.70)\n",
    "Legend.SetFillStyle(0)\n",
    "Legend.SetTextFont(42)\n",
    "Legend.SetTextSize(0.035)\n",
    "Legend.SetBorderSize(0)\n",
    "Legend.AddEntry(PDYSignalHFVsAll_NPV, \"Shifted with PT dependence from NPV = 1\", \"l\")\n",
    "Legend.AddEntry(PDYSignalHFVsAll_NPU, \"Shifted with PT dependence from NPU = 0\", \"l\")\n",
    "Legend.AddEntry(PMBSignalHFVsAll, \"MB\", \"l\")\n",
    "Legend.Draw()\n",
    "\n",
    "Canvas.Draw()"
   ]
  },
  {
   "cell_type": "code",
   "execution_count": 20,
   "id": "a5f593e2-6751-41c8-9629-810897297343",
   "metadata": {},
   "outputs": [
    {
     "data": {
      "text/plain": [
       "True"
      ]
     },
     "execution_count": 20,
     "metadata": {},
     "output_type": "execute_result"
    },
    {
     "name": "stdout",
     "output_type": "stream",
     "text": [
      "****************************************\n",
      "Minimizer is Linear / Migrad\n",
      "Chi2                      =      119.538\n",
      "NDf                       =           97\n",
      "p0                        =     -64.0674   +/-   1.41402     \n",
      "p1                        =   -1.147e-05   +/-   4.54741e-05 \n",
      "****************************************\n",
      "Minimizer is Linear / Migrad\n",
      "Chi2                      =      119.535\n",
      "NDf                       =           97\n",
      "p0                        =     -82.3698   +/-   1.41402     \n",
      "p1                        = -1.14896e-05   +/-   4.54741e-05 \n"
     ]
    },
    {
     "name": "stderr",
     "output_type": "stream",
     "text": [
      "Warning in <TFile::Append>: Replacing existing TH1: HDiffSignalHFVsAll_NPU (Potential memory leak).\n",
      "Warning in <TFile::Append>: Replacing existing TH1: HDiffSignalHFVsAll_NPV (Potential memory leak).\n"
     ]
    },
    {
     "data": {
      "image/png": "[encoded data removed]",
      "text/plain": [
       "<IPython.core.display.Image object>"
      ]
     },
     "metadata": {},
     "output_type": "display_data"
    }
   ],
   "source": [
    "HDiffSignalHFVsAll_NPU = ROOT.TH1D(\"HDiffSignalHFVsAll_NPU\", \";Non-signal generated SumHF;SumHF difference to MB\", 100, 0, 180000)\n",
    "HDiffSignalHFVsAll_NPV = ROOT.TH1D(\"HDiffSignalHFVsAll_NPV\", \"\", 100, 0, 180000)\n",
    "for i in range(1, 101):\n",
    "    HDiffSignalHFVsAll_NPU.SetBinContent(i, PDYSignalHFVsAll_NPU.GetBinContent(i) - PMBSignalHFVsAll.GetBinContent(i))\n",
    "    HDiffSignalHFVsAll_NPU.SetBinError(i, math.sqrt(PDYSignalHFVsAll_NPU.GetBinError(i)**2 + PMBSignalHFVsAll.GetBinError(i)**2))\n",
    "    HDiffSignalHFVsAll_NPV.SetBinContent(i, PDYSignalHFVsAll_NPV.GetBinContent(i) - PMBSignalHFVsAll.GetBinContent(i))\n",
    "    HDiffSignalHFVsAll_NPV.SetBinError(i, math.sqrt(PDYSignalHFVsAll_NPV.GetBinError(i)**2 + PMBSignalHFVsAll.GetBinError(i)**2))\n",
    "HDiffSignalHFVsAll_NPU.Draw()\n",
    "HDiffSignalHFVsAll_NPV.Draw(\"same\")\n",
    "\n",
    "HDiffSignalHFVsAll_NPU.SetLineColor(ROOT.kBlue)\n",
    "HDiffSignalHFVsAll_NPV.SetLineColor(ROOT.kRed)\n",
    "\n",
    "HDiffSignalHFVsAll_NPU.SetStats(0)\n",
    "HDiffSignalHFVsAll_NPU.SetMaximum(500)\n",
    "HDiffSignalHFVsAll_NPU.SetMinimum(-500)\n",
    "\n",
    "FDiffSignalHFVsAll_NPU = ROOT.TF1(\"FDiffSignalHFVsAll_NPU\", \"pol1\")\n",
    "FDiffSignalHFVsAll_NPV = ROOT.TF1(\"FDiffSignalHFVsAll_NPV\", \"pol1\")\n",
    "\n",
    "FDiffSignalHFVsAll_NPU.SetLineColor(ROOT.kBlue + 1)\n",
    "FDiffSignalHFVsAll_NPV.SetLineColor(ROOT.kRed + 1)\n",
    "\n",
    "HDiffSignalHFVsAll_NPU.Fit(FDiffSignalHFVsAll_NPU)\n",
    "HDiffSignalHFVsAll_NPV.Fit(FDiffSignalHFVsAll_NPV)\n",
    "\n",
    "Legend = ROOT.TLegend(0.15, 0.85, 0.45, 0.75)\n",
    "Legend.SetFillStyle(0)\n",
    "Legend.SetTextFont(42)\n",
    "Legend.SetTextSize(0.035)\n",
    "Legend.SetBorderSize(0)\n",
    "Legend.AddEntry(HDiffSignalHFVsAll_NPV, \"Shifted with PT dependence from NPV = 1\", \"l\")\n",
    "Legend.AddEntry(HDiffSignalHFVsAll_NPU, \"Shifted with PT dependence from NPU = 0\", \"l\")\n",
    "Legend.Draw()\n",
    "\n",
    "Canvas.SetLogy(False)\n",
    "Canvas.Draw()\n",
    "\n",
    "TreeDYReco.SetAlias(\"NPUHFShift\", f\"({FDiffSignalHFVsAll_NPU.GetParameter(0)})\")\n",
    "TreeDYReco.SetAlias(\"NPVHFShift\", f\"({FDiffSignalHFVsAll_NPV.GetParameter(0)})\")\n",
    "TreeDYReco.SetAlias(\"NPUHFShiftFull\", f\"({FDiffSignalHFVsAll_NPU.GetParameter(0)}+{FDiffSignalHFVsAll_NPU.GetParameter(1)}*(SubEventAllHF-SubEvent0HF))\")\n",
    "TreeDYReco.SetAlias(\"NPVHFShiftFull\", f\"({FDiffSignalHFVsAll_NPV.GetParameter(0)}+{FDiffSignalHFVsAll_NPV.GetParameter(1)}*(SubEventAllHF-SubEvent0HF))\")\n"
   ]
  },
  {
   "cell_type": "code",
   "execution_count": 21,
   "id": "59530ed9-737a-4cb7-bf4f-645a3f9440db",
   "metadata": {},
   "outputs": [
    {
     "name": "stderr",
     "output_type": "stream",
     "text": [
      "Warning in <TFile::Append>: Replacing existing TH1: PDYSignalHFVsAll2_NPU (Potential memory leak).\n",
      "Warning in <TFile::Append>: Replacing existing TH1: PDYSignalHFVsAll2_NPV (Potential memory leak).\n"
     ]
    },
    {
     "data": {
      "image/png": "[encoded data removed]",
      "text/plain": [
       "<IPython.core.display.Image object>"
      ]
     },
     "metadata": {},
     "output_type": "display_data"
    }
   ],
   "source": [
    "PDYSignalHFVsAll2_NPU = ROOT.TProfile(\"PDYSignalHFVsAll2_NPU\", \";Non-signal generated SumHF;Mean shifted SumHF\", 100, 0, 180000)\n",
    "PDYSignalHFVsAll2_NPV = ROOT.TProfile(\"PDYSignalHFVsAll2_NPV\", \"\", 100, 0, 180000)\n",
    "\n",
    "PDYSignalHFVsAll2_NPU.SetLineColor(ROOT.kBlue)\n",
    "PDYSignalHFVsAll2_NPV.SetLineColor(ROOT.kRed)\n",
    "\n",
    "PDYSignalHFVsAll2_NPU.SetStats(0)\n",
    "PDYSignalHFVsAll2_NPV.SetStats(0)\n",
    "\n",
    "TreeDYReco.Draw(\"SignalHF-NPUZPTShift-NPUHFShift:SubEventAllHF-SubEvent0HF>>PDYSignalHFVsAll2_NPU\", \"zPt[0] > 20\", \"prof\")\n",
    "TreeDYReco.Draw(\"SignalHF-NPVZPTShift-NPVHFShift:SubEventAllHF-SubEvent0HF>>PDYSignalHFVsAll2_NPV\", \"zPt[0] > 20\", \"prof same\")\n",
    "PMBSignalHFVsAll.Draw(\"same\")\n",
    "\n",
    "Legend = ROOT.TLegend(0.15, 0.85, 0.45, 0.70)\n",
    "Legend.SetFillStyle(0)\n",
    "Legend.SetTextFont(42)\n",
    "Legend.SetTextSize(0.035)\n",
    "Legend.SetBorderSize(0)\n",
    "Legend.AddEntry(PDYSignalHFVsAll2_NPV, \"Derived with NPV = 1\", \"l\")\n",
    "Legend.AddEntry(PDYSignalHFVsAll2_NPU, \"Derived with NPU = 0\", \"l\")\n",
    "Legend.AddEntry(PMBSignalHFVsAll, \"MB\", \"l\")\n",
    "Legend.Draw()\n",
    "\n",
    "Canvas.Draw()"
   ]
  },
  {
   "cell_type": "code",
   "execution_count": 22,
   "id": "623a25bc-b255-4330-b2e4-dd75b9da369d",
   "metadata": {},
   "outputs": [
    {
     "name": "stderr",
     "output_type": "stream",
     "text": [
      "Warning in <TFile::Append>: Replacing existing TH1: HDiffSignalHFVsAll2_NPU (Potential memory leak).\n",
      "Warning in <TFile::Append>: Replacing existing TH1: HDiffSignalHFVsAll2_NPV (Potential memory leak).\n"
     ]
    },
    {
     "data": {
      "image/png": "[encoded data removed]",
      "text/plain": [
       "<IPython.core.display.Image object>"
      ]
     },
     "metadata": {},
     "output_type": "display_data"
    }
   ],
   "source": [
    "HDiffSignalHFVsAll2_NPU = ROOT.TH1D(\"HDiffSignalHFVsAll2_NPU\", \";Non-signal generated SumHF;(Shifted) SumHF difference to MB\", 100, 0, 180000)\n",
    "HDiffSignalHFVsAll2_NPV = ROOT.TH1D(\"HDiffSignalHFVsAll2_NPV\", \"\", 100, 0, 180000)\n",
    "for i in range(1, 101):\n",
    "    HDiffSignalHFVsAll2_NPU.SetBinContent(i, PDYSignalHFVsAll2_NPU.GetBinContent(i) - PMBSignalHFVsAll.GetBinContent(i))\n",
    "    HDiffSignalHFVsAll2_NPU.SetBinError(i, math.sqrt(PDYSignalHFVsAll2_NPU.GetBinError(i)**2 + PMBSignalHFVsAll.GetBinError(i)**2))\n",
    "    HDiffSignalHFVsAll2_NPV.SetBinContent(i, PDYSignalHFVsAll2_NPV.GetBinContent(i) - PMBSignalHFVsAll.GetBinContent(i))\n",
    "    HDiffSignalHFVsAll2_NPV.SetBinError(i, math.sqrt(PDYSignalHFVsAll2_NPV.GetBinError(i)**2 + PMBSignalHFVsAll.GetBinError(i)**2))\n",
    "HDiffSignalHFVsAll2_NPU.Draw()\n",
    "HDiffSignalHFVsAll2_NPV.Draw(\"same\")\n",
    "\n",
    "HDiffSignalHFVsAll2_NPU.SetLineColor(ROOT.kBlue)\n",
    "HDiffSignalHFVsAll2_NPV.SetLineColor(ROOT.kRed)\n",
    "\n",
    "HDiffSignalHFVsAll2_NPU.SetStats(0)\n",
    "HDiffSignalHFVsAll2_NPU.SetMaximum(250)\n",
    "HDiffSignalHFVsAll2_NPU.SetMinimum(-250)\n",
    "\n",
    "Legend = ROOT.TLegend(0.15, 0.85, 0.45, 0.75)\n",
    "Legend.SetFillStyle(0)\n",
    "Legend.SetTextFont(42)\n",
    "Legend.SetTextSize(0.035)\n",
    "Legend.SetBorderSize(0)\n",
    "Legend.AddEntry(HDiffSignalHFVsAll2_NPV, \"Derived with NPV = 1\", \"l\")\n",
    "Legend.AddEntry(HDiffSignalHFVsAll2_NPU, \"Derived with NPU = 0\", \"l\")\n",
    "Legend.Draw()\n",
    "\n",
    "Canvas.SetLogy(False)\n",
    "Canvas.Draw()"
   ]
  },
  {
   "cell_type": "code",
   "execution_count": 24,
   "id": "a8d0eda9-f474-47f7-8124-85327715d1fb",
   "metadata": {},
   "outputs": [
    {
     "name": "stdout",
     "output_type": "stream",
     "text": [
      "(763.1539360425459-101.2995115409047*exp(-0.09666472578946463*zPt[0]))\n",
      "(-82.36975543861207)\n",
      "(680.7841806039338-101.2995115409047*exp(-0.09666472578946463*zPt[0]))\n"
     ]
    }
   ],
   "source": [
    "print(f\"({FSignalHFVsZPT_NPV1.GetParameter(0)}-{FSignalHFVsZPT_NPV1.GetParameter(1)}*exp(-{FSignalHFVsZPT_NPV1.GetParameter(2)}*zPt[0]))\")\n",
    "print(f\"({FDiffSignalHFVsAll_NPV.GetParameter(0)})\")\n",
    "print(f\"({FSignalHFVsZPT_NPV1.GetParameter(0)+FDiffSignalHFVsAll_NPV.GetParameter(0)}-{FSignalHFVsZPT_NPV1.GetParameter(1)}*exp(-{FSignalHFVsZPT_NPV1.GetParameter(2)}*zPt[0]))\")"
   ]
  },
  {
   "cell_type": "code",
   "execution_count": 27,
   "id": "0ce96d17-73ef-41ae-8b7a-7ab20bbf10fa",
   "metadata": {},
   "outputs": [
    {
     "name": "stdout",
     "output_type": "stream",
     "text": [
      "(744.3082850142206-100.10354951421574*exp(-0.10119138423883632*zPt[0]))\n",
      "(-64.06741623945045)\n",
      "(680.2408687747701-100.10354951421574*exp(-0.10119138423883632*zPt[0]))\n"
     ]
    }
   ],
   "source": [
    "print(f\"({FSignalHFVsZPT_NPU0.GetParameter(0)}-{FSignalHFVsZPT_NPU0.GetParameter(1)}*exp(-{FSignalHFVsZPT_NPU0.GetParameter(2)}*zPt[0]))\")\n",
    "print(f\"({FDiffSignalHFVsAll_NPU.GetParameter(0)})\")\n",
    "print(f\"({FSignalHFVsZPT_NPU0.GetParameter(0)+FDiffSignalHFVsAll_NPU.GetParameter(0)}-{FSignalHFVsZPT_NPU0.GetParameter(1)}*exp(-{FSignalHFVsZPT_NPU0.GetParameter(2)}*zPt[0]))\")"
   ]
  },
  {
   "cell_type": "code",
   "execution_count": 31,
   "id": "ca3a6275-3df6-459e-b3f2-65174ff1b3a6",
   "metadata": {},
   "outputs": [
    {
     "data": {
      "text/plain": [
       "678.4927333019886"
      ]
     },
     "execution_count": 31,
     "metadata": {},
     "output_type": "execute_result"
    }
   ],
   "source": [
    "FSignalHFVsZPT_NPU0.GetParameter(0)+FDiffSignalHFVsAll_NPU.GetParameter(0)-FSignalHFVsZPT_NPU0.GetParameter(1)*math.exp(-FSignalHFVsZPT_NPU0.GetParameter(2)*40)"
   ]
  },
  {
   "cell_type": "code",
   "execution_count": null,
   "id": "a2e70ac3-e3b3-4c2e-84df-180a364e73af",
   "metadata": {},
   "outputs": [],
   "source": []
  }
 ],
 "metadata": {
  "kernelspec": {
   "display_name": "Python 3 (ipykernel)",
   "language": "python",
   "name": "python3"
  },
  "language_info": {
   "codemirror_mode": {
    "name": "ipython",
    "version": 3
   },
   "file_extension": ".py",
   "mimetype": "text/x-python",
   "name": "python",
   "nbconvert_exporter": "python",
   "pygments_lexer": "ipython3",
   "version": "3.12.4"
  }
 },
 "nbformat": 4,
 "nbformat_minor": 5
}
