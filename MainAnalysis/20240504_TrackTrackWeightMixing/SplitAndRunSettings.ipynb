{
 "cells": [
  {
   "cell_type": "code",
   "execution_count": 1,
   "id": "8ff05800-0f74-4ca5-aac5-463ecad38a3a",
   "metadata": {},
   "outputs": [],
   "source": [
    "import os, subprocess, time, datetime"
   ]
  },
  {
   "cell_type": "code",
   "execution_count": 2,
   "id": "52dd229a-5009-4eed-a0f8-4985d4aea0c2",
   "metadata": {},
   "outputs": [],
   "source": [
    "SettingsFileName = 'Setting20240808-083059.tsv'\n",
    "\n",
    "FileList = []\n",
    "\n",
    "with open(SettingsFileName) as ConfigFile:\n",
    "    ListOfLines = []\n",
    "    for Line in ConfigFile:\n",
    "        if Line[0] == ' ' or Line[0] == '\\t':\n",
    "            continue\n",
    "\n",
    "        Identifier = Line.split()[0]\n",
    "        \n",
    "        if Identifier == './Execute':\n",
    "            ListOfLines.append(Line)\n",
    "        else:\n",
    "            if len(ListOfLines) == 0:\n",
    "                File = open(f'Run{Identifier}.sh', 'w')\n",
    "                FileList.append(f'Run{Identifier}.sh')\n",
    "            else:\n",
    "                for I in ListOfLines:\n",
    "                    File.write(I)\n",
    "                # File.write(\"\")\n",
    "                # File.write(\"wait\")\n",
    "                File.close()\n",
    "                File = open(f'Run{Identifier}.sh', 'w')\n",
    "                FileList.append(f'Run{Identifier}.sh')\n",
    "            ListOfLines = []\n",
    "\n",
    "    for I in ListOfLines:\n",
    "        File.write(I)\n",
    "    # File.write(\"\")\n",
    "    # File.write(\"wait\")\n",
    "    File.close()\n"
   ]
  },
  {
   "cell_type": "code",
   "execution_count": 3,
   "id": "7955d936-c967-446f-bf16-669f674f848b",
   "metadata": {},
   "outputs": [],
   "source": [
    "def RunFile(File):\n",
    "    os.system(f'bash {File} 2>&1 > Log{File}.log | grep -v \"unknown branch\" | grep -v -i \"NONE does not exist\" &')\n",
    "\n",
    "def GetRunningCount():\n",
    "    return int(subprocess.check_output('ps aux | grep Execute | grep -v grep | wc -l', shell=True).strip())\n",
    "\n",
    "def RunJobs(List):\n",
    "    print('Jobs to run: ', List)\n",
    "    print('')\n",
    "    \n",
    "    CurrentIndex = 0\n",
    "    while CurrentIndex < len(List):\n",
    "        Count = GetRunningCount()\n",
    "        if Count < 10:\n",
    "            RunFile(List[CurrentIndex])\n",
    "            print(f'[{datetime.datetime.now()}] Launching {List[CurrentIndex]}...')\n",
    "            CurrentIndex = CurrentIndex + 1\n",
    "        else:\n",
    "            print(f'[{datetime.datetime.now()}] Running fine.  Currently {Count} jobs running')\n",
    "        time.sleep(60)\n",
    "\n",
    "    print(f'[{datetime.datetime.now()}] Done launching jobs!  Now we wait for them to finish')\n",
    "\n",
    "    while GetRunningCount() > 0:\n",
    "        print(f'[{datetime.datetime.now()}] Running fine.  Currently {GetRunningCount()} jobs remaining')\n",
    "        time.sleep(60)\n",
    "\n",
    "    print(f'[{datetime.datetime.now()}] All finished!')"
   ]
  },
  {
   "cell_type": "code",
   "execution_count": 4,
   "id": "7da7eac8-e787-4583-b511-50023d518f37",
   "metadata": {},
   "outputs": [
    {
     "name": "stdout",
     "output_type": "stream",
     "text": [
      "['RunGenSelf.sh', 'RunGenClosure2to200.sh', 'RunGenClosure3to200.sh', 'RunGenClosure4to200.sh', 'RunRecoClosure2to200.sh', 'RunRecoClosure3to200.sh', 'RunRecoClosure4to200.sh', 'RunDataNominal2to200.sh', 'RunDataNominal3to200.sh', 'RunDataNominal4to200.sh', 'RunDataPileup.sh', 'RunMCPileup.sh', 'RunDataZWeight2to200_PP.sh', 'RunDataZWeight2to200_030.sh', 'RunDataZWeight2to200_3050.sh', 'RunDataZWeight2to200_5090.sh', 'RunDataZWeight3to200_PP.sh', 'RunDataZWeight3to200_030.sh', 'RunDataZWeight3to200_3050.sh', 'RunDataZWeight3to200_5090.sh', 'RunDataZWeight4to200_PP.sh', 'RunDataZWeight4to200_030.sh', 'RunDataZWeight4to200_3050.sh', 'RunDataZWeight4to200_5090.sh', 'RunDataHiBin2to200_Part1.sh', 'RunDataHiBin2to200_Part2.sh', 'RunDataHiBin3to200.sh', 'RunDataHiBin4to200.sh', 'RunDataCorrected2to200.sh', 'RunDataCorrected3to200.sh', 'RunDataCorrected4to200.sh', 'RunDataPTCutoff.sh', 'RunRecoClosurePTCutoff.sh', 'RunNoResidual4to200.sh', 'RunTrackZPT4to200.sh']\n"
     ]
    }
   ],
   "source": [
    "print(FileList)"
   ]
  },
  {
   "cell_type": "code",
   "execution_count": null,
   "id": "1ca979d4-a7c5-4383-971b-977eef13c7f4",
   "metadata": {},
   "outputs": [
    {
     "name": "stdout",
     "output_type": "stream",
     "text": [
      "Jobs to run:  ['RunGenClosure2to200.sh', 'RunGenClosure3to200.sh', 'RunGenClosure4to200.sh', 'RunRecoClosure2to200.sh', 'RunRecoClosure3to200.sh', 'RunRecoClosure4to200.sh', 'RunDataNominal2to200.sh', 'RunDataNominal3to200.sh', 'RunDataNominal4to200.sh', 'RunDataPileup.sh', 'RunMCPileup.sh', 'RunDataZWeight2to200_PP.sh', 'RunDataZWeight2to200_030.sh', 'RunDataZWeight2to200_3050.sh', 'RunDataZWeight2to200_5090.sh', 'RunDataZWeight3to200_PP.sh', 'RunDataZWeight3to200_030.sh', 'RunDataZWeight3to200_3050.sh', 'RunDataZWeight3to200_5090.sh', 'RunDataZWeight4to200_PP.sh', 'RunDataZWeight4to200_030.sh', 'RunDataZWeight4to200_3050.sh', 'RunDataZWeight4to200_5090.sh', 'RunDataHiBin2to200_Part1.sh', 'RunDataHiBin2to200_Part2.sh', 'RunDataHiBin3to200.sh', 'RunDataHiBin4to200.sh', 'RunDataCorrected2to200.sh', 'RunDataCorrected3to200.sh', 'RunDataCorrected4to200.sh', 'RunDataPTCutoff.sh', 'RunRecoClosurePTCutoff.sh', 'RunNoResidual4to200.sh', 'RunTrackZPT4to200.sh']\n",
      "\n",
      "[2024-08-08 10:51:52.466543] Launching RunGenClosure2to200.sh...\n",
      "[2024-08-08 10:52:52.582216] Running fine.  Currently 20 jobs running\n",
      "[2024-08-08 10:53:52.697217] Running fine.  Currently 15 jobs running\n",
      "[2024-08-08 10:54:52.828535] Running fine.  Currently 12 jobs running\n",
      "[2024-08-08 10:55:52.911260] Launching RunGenClosure3to200.sh...\n",
      "[2024-08-08 10:56:53.033379] Running fine.  Currently 28 jobs running\n",
      "[2024-08-08 10:57:53.154118] Running fine.  Currently 26 jobs running\n",
      "[2024-08-08 10:58:53.268182] Running fine.  Currently 20 jobs running\n",
      "[2024-08-08 10:59:53.375997] Running fine.  Currently 15 jobs running\n",
      "[2024-08-08 11:00:53.473753] Running fine.  Currently 10 jobs running\n",
      "[2024-08-08 11:01:53.552582] Launching RunGenClosure4to200.sh...\n",
      "[2024-08-08 11:02:53.683765] Running fine.  Currently 24 jobs running\n",
      "[2024-08-08 11:03:53.808376] Running fine.  Currently 21 jobs running\n",
      "[2024-08-08 11:04:53.929799] Running fine.  Currently 15 jobs running\n",
      "[2024-08-08 11:05:54.006904] Launching RunRecoClosure2to200.sh...\n",
      "[2024-08-08 11:06:54.125952] Running fine.  Currently 22 jobs running\n",
      "[2024-08-08 11:07:54.234010] Running fine.  Currently 16 jobs running\n",
      "[2024-08-08 11:08:54.347895] Running fine.  Currently 15 jobs running\n",
      "[2024-08-08 11:09:55.578976] Running fine.  Currently 13 jobs running\n",
      "[2024-08-08 11:10:55.699051] Running fine.  Currently 13 jobs running\n",
      "[2024-08-08 11:11:55.859056] Running fine.  Currently 13 jobs running\n",
      "[2024-08-08 11:12:56.027995] Running fine.  Currently 13 jobs running\n",
      "[2024-08-08 11:13:56.145601] Running fine.  Currently 12 jobs running\n",
      "[2024-08-08 11:14:56.289157] Running fine.  Currently 12 jobs running\n",
      "[2024-08-08 11:15:56.419983] Running fine.  Currently 10 jobs running\n",
      "[2024-08-08 11:16:56.525467] Running fine.  Currently 10 jobs running\n",
      "[2024-08-08 11:17:56.637930] Running fine.  Currently 10 jobs running\n",
      "[2024-08-08 11:18:56.747824] Running fine.  Currently 10 jobs running\n",
      "[2024-08-08 11:19:56.860291] Running fine.  Currently 10 jobs running\n",
      "[2024-08-08 11:20:56.931185] Launching RunRecoClosure3to200.sh...\n",
      "[2024-08-08 11:21:57.047057] Running fine.  Currently 25 jobs running\n",
      "[2024-08-08 11:22:57.153366] Running fine.  Currently 24 jobs running\n",
      "[2024-08-08 11:23:57.268862] Running fine.  Currently 18 jobs running\n",
      "[2024-08-08 11:24:57.386277] Running fine.  Currently 18 jobs running\n",
      "[2024-08-08 11:25:57.501920] Running fine.  Currently 16 jobs running\n",
      "[2024-08-08 11:26:57.616609] Running fine.  Currently 15 jobs running\n",
      "[2024-08-08 11:27:57.721463] Running fine.  Currently 15 jobs running\n",
      "[2024-08-08 11:28:57.837660] Running fine.  Currently 15 jobs running\n",
      "[2024-08-08 11:29:57.949644] Running fine.  Currently 15 jobs running\n",
      "[2024-08-08 11:30:58.083223] Running fine.  Currently 13 jobs running\n",
      "[2024-08-08 11:31:58.218875] Running fine.  Currently 11 jobs running\n",
      "[2024-08-08 11:32:58.324295] Running fine.  Currently 11 jobs running\n",
      "[2024-08-08 11:33:58.435304] Running fine.  Currently 11 jobs running\n",
      "[2024-08-08 11:34:58.548644] Running fine.  Currently 11 jobs running\n",
      "[2024-08-08 11:35:58.649310] Running fine.  Currently 10 jobs running\n",
      "[2024-08-08 11:36:58.726767] Launching RunRecoClosure4to200.sh...\n",
      "[2024-08-08 11:37:58.845627] Running fine.  Currently 23 jobs running\n",
      "[2024-08-08 11:38:59.012049] Running fine.  Currently 19 jobs running\n",
      "[2024-08-08 11:39:59.123456] Running fine.  Currently 15 jobs running\n",
      "[2024-08-08 11:40:59.294136] Running fine.  Currently 15 jobs running\n",
      "[2024-08-08 11:41:59.427530] Running fine.  Currently 15 jobs running\n",
      "[2024-08-08 11:42:59.542547] Running fine.  Currently 15 jobs running\n",
      "[2024-08-08 11:43:59.664300] Running fine.  Currently 15 jobs running\n",
      "[2024-08-08 11:44:59.781130] Running fine.  Currently 15 jobs running\n",
      "[2024-08-08 11:45:59.895811] Running fine.  Currently 15 jobs running\n",
      "[2024-08-08 11:47:00.008838] Running fine.  Currently 11 jobs running\n",
      "[2024-08-08 11:48:00.198827] Running fine.  Currently 11 jobs running\n",
      "[2024-08-08 11:49:00.273965] Launching RunDataNominal2to200.sh...\n",
      "[2024-08-08 11:50:00.398274] Running fine.  Currently 22 jobs running\n",
      "[2024-08-08 11:51:00.519310] Running fine.  Currently 22 jobs running\n",
      "[2024-08-08 11:52:00.637234] Running fine.  Currently 22 jobs running\n",
      "[2024-08-08 11:53:00.759614] Running fine.  Currently 18 jobs running\n",
      "[2024-08-08 11:54:00.874099] Running fine.  Currently 17 jobs running\n",
      "[2024-08-08 11:55:00.994770] Running fine.  Currently 15 jobs running\n",
      "[2024-08-08 11:56:01.226128] Running fine.  Currently 14 jobs running\n",
      "[2024-08-08 11:57:01.413843] Running fine.  Currently 14 jobs running\n",
      "[2024-08-08 11:58:01.595845] Running fine.  Currently 14 jobs running\n",
      "[2024-08-08 11:59:01.801285] Running fine.  Currently 14 jobs running\n",
      "[2024-08-08 12:00:01.911512] Running fine.  Currently 12 jobs running\n",
      "[2024-08-08 12:01:02.024938] Running fine.  Currently 12 jobs running\n",
      "[2024-08-08 12:02:02.153576] Running fine.  Currently 12 jobs running\n",
      "[2024-08-08 12:03:02.272807] Running fine.  Currently 12 jobs running\n",
      "[2024-08-08 12:04:02.397186] Running fine.  Currently 12 jobs running\n",
      "[2024-08-08 12:05:02.499544] Running fine.  Currently 12 jobs running\n",
      "[2024-08-08 12:06:02.610160] Running fine.  Currently 12 jobs running\n",
      "[2024-08-08 12:07:02.727867] Running fine.  Currently 12 jobs running\n",
      "[2024-08-08 12:08:02.841457] Running fine.  Currently 11 jobs running\n",
      "[2024-08-08 12:09:02.959618] Running fine.  Currently 11 jobs running\n",
      "[2024-08-08 12:10:03.065739] Running fine.  Currently 11 jobs running\n",
      "[2024-08-08 12:11:03.183224] Running fine.  Currently 11 jobs running\n",
      "[2024-08-08 12:12:03.293701] Running fine.  Currently 11 jobs running\n",
      "[2024-08-08 12:13:03.404727] Running fine.  Currently 10 jobs running\n",
      "[2024-08-08 12:14:03.512521] Running fine.  Currently 10 jobs running\n",
      "[2024-08-08 12:15:03.612327] Running fine.  Currently 10 jobs running\n",
      "[2024-08-08 12:16:03.690570] Launching RunDataNominal3to200.sh...\n",
      "[2024-08-08 12:17:03.803502] Running fine.  Currently 22 jobs running\n",
      "[2024-08-08 12:18:03.932367] Running fine.  Currently 21 jobs running\n",
      "[2024-08-08 12:19:04.060136] Running fine.  Currently 18 jobs running\n",
      "[2024-08-08 12:20:04.180067] Running fine.  Currently 16 jobs running\n",
      "[2024-08-08 12:21:04.301092] Running fine.  Currently 15 jobs running\n",
      "[2024-08-08 12:22:04.497111] Running fine.  Currently 14 jobs running\n"
     ]
    }
   ],
   "source": [
    "# ToRunList = [Item for Item in FileList if 'Data' in Item and '2to200' in Item]\n",
    "# RunJobs(ToRunList)\n",
    "\n",
    "ToRunList = ['RunGenClosure2to200.sh', 'RunGenClosure3to200.sh', 'RunGenClosure4to200.sh', 'RunRecoClosure2to200.sh', 'RunRecoClosure3to200.sh', 'RunRecoClosure4to200.sh', 'RunDataNominal2to200.sh', 'RunDataNominal3to200.sh', 'RunDataNominal4to200.sh', 'RunDataPileup.sh', 'RunMCPileup.sh', 'RunDataZWeight2to200_PP.sh', 'RunDataZWeight2to200_030.sh', 'RunDataZWeight2to200_3050.sh', 'RunDataZWeight2to200_5090.sh', 'RunDataZWeight3to200_PP.sh', 'RunDataZWeight3to200_030.sh', 'RunDataZWeight3to200_3050.sh', 'RunDataZWeight3to200_5090.sh', 'RunDataZWeight4to200_PP.sh', 'RunDataZWeight4to200_030.sh', 'RunDataZWeight4to200_3050.sh', 'RunDataZWeight4to200_5090.sh', 'RunDataHiBin2to200_Part1.sh', 'RunDataHiBin2to200_Part2.sh', 'RunDataHiBin3to200.sh', 'RunDataHiBin4to200.sh', 'RunDataCorrected2to200.sh', 'RunDataCorrected3to200.sh', 'RunDataCorrected4to200.sh', 'RunDataPTCutoff.sh', 'RunRecoClosurePTCutoff.sh', 'RunNoResidual4to200.sh', 'RunTrackZPT4to200.sh']\n",
    "RunJobs(ToRunList)\n"
   ]
  },
  {
   "cell_type": "code",
   "execution_count": null,
   "id": "5455b7b2-3790-433c-8951-a7e2bc0a6e25",
   "metadata": {},
   "outputs": [],
   "source": [
    "ToRunData = ['RunDataNominal2to200.sh', 'RunDataNominal3to200.sh', 'RunDataNominal4to200.sh', 'RunDataPileup.sh', 'RunMCPileup.sh', 'RunDataZWeight2to200_PP.sh', 'RunDataZWeight2to200_030.sh', 'RunDataZWeight2to200_3050.sh', 'RunDataZWeight2to200_5090.sh', 'RunDataZWeight3to200_PP.sh', 'RunDataZWeight3to200_030.sh', 'RunDataZWeight3to200_3050.sh', 'RunDataZWeight3to200_5090.sh', 'RunDataZWeight4to200_PP.sh', 'RunDataZWeight4to200_030.sh', 'RunDataZWeight4to200_3050.sh', 'RunDataZWeight4to200_5090.sh', 'RunDataHiBin2to200_Part1.sh', 'RunDataHiBin2to200_Part2.sh', 'RunDataHiBin3to200.sh', 'RunDataHiBin4to200.sh', 'RunDataCorrected2to200.sh', 'RunDataCorrected3to200.sh', 'RunDataCorrected4to200.sh', 'RunDataPTCutoff.sh', 'RunRecoClosurePTCutoff.sh', 'RunNoResidual4to200.sh', 'RunTrackZPT4to200.sh']\n",
    "RunJobs(ToRunData)"
   ]
  },
  {
   "cell_type": "code",
   "execution_count": null,
   "id": "995acaef-1256-4476-83d4-cf16636b5b38",
   "metadata": {},
   "outputs": [],
   "source": [
    "# Clean things up if needed\n",
    "# os.system('killall Execute')"
   ]
  },
  {
   "cell_type": "code",
   "execution_count": null,
   "id": "3cb0d7d5-872d-44ca-96f8-445a6a598398",
   "metadata": {},
   "outputs": [],
   "source": [
    "for File in FileList:\n",
    "    if '3to200' in File or '4to200' in File:\n",
    "        print(f'Skipping: {File}')\n",
    "    elif '2to200' in File:\n",
    "        print(f'Running: {File}')\n",
    "        # os.system(f'bash {File} 2>&1 > Log{File}.log | grep -v \"unknown branch\" | grep -v -i \"NONE does not exist\"')\n",
    "    else:\n",
    "        print(f'Skipping: {File}')"
   ]
  },
  {
   "cell_type": "code",
   "execution_count": null,
   "id": "278b19f7-82bd-4117-988c-ba72ae992674",
   "metadata": {},
   "outputs": [],
   "source": [
    "for File in FileList:\n",
    "    if '3to200' in File or '4to200' in File:\n",
    "        print(f'Running: {File}')\n",
    "        # os.system(f'bash {File} 2>&1 > Log{File}.log | grep -v \"unknown branch\" | grep -v -i \"NONE does not exist\"')\n",
    "    elif '2to200' in File:\n",
    "        print(f'Skipping: {File}')\n",
    "    else:\n",
    "        print(f'Skipping: {File}')"
   ]
  }
 ],
 "metadata": {
  "kernelspec": {
   "display_name": "Python 3 (ipykernel)",
   "language": "python",
   "name": "python3"
  },
  "language_info": {
   "codemirror_mode": {
    "name": "ipython",
    "version": 3
   },
   "file_extension": ".py",
   "mimetype": "text/x-python",
   "name": "python",
   "nbconvert_exporter": "python",
   "pygments_lexer": "ipython3",
   "version": "3.12.4"
  }
 },
 "nbformat": 4,
 "nbformat_minor": 5
}
