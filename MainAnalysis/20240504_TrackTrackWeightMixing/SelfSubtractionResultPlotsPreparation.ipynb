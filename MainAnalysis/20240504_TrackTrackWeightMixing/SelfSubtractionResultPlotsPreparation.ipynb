{
 "cells": [
  {
   "cell_type": "code",
   "execution_count": 1,
   "id": "9c5f6c3d-01cd-4403-af15-1aeb10d5d11f",
   "metadata": {},
   "outputs": [
    {
     "name": "stdout",
     "output_type": "stream",
     "text": [
      "Welcome to JupyROOT 6.30/06\n"
     ]
    }
   ],
   "source": [
    "import ROOT"
   ]
  },
  {
   "cell_type": "markdown",
   "id": "38879813-a673-4033-b120-6121275ff38e",
   "metadata": {},
   "source": [
    "# Information\n",
    "\n",
    "## Specifications\n",
    "\n",
    "The format we want is...each input file contains all the curves we want in a plot across all panels\n",
    "Histogram name is (ToPlot)_(Tag).\n",
    "- ToPlot can be something like \"HDeltaPhi\", Tag is whatever\n",
    "- The tag is different for each panel.\n",
    "The histograms are subtracted and divided by number of Z, but before bin width thingy\n",
    "\n",
    "## What to accomplish in this notebook\n",
    "\n",
    "Our job here is to gather all plots into a single file for each type after properly subtracting them.  Then we can feed it into the plotting script."
   ]
  },
  {
   "cell_type": "code",
   "execution_count": 28,
   "id": "4962e698-d39e-4d73-968c-fc127fff96f0",
   "metadata": {},
   "outputs": [],
   "source": [
    "def GetHistogram(OutputFile, OutputHistogramName, FileName1, FileName2, HistogramName, Rebin = 1, NormIndex = 1):\n",
    "    File1 = ROOT.TFile(FileName1)\n",
    "    File2 = ROOT.TFile(FileName2)\n",
    "\n",
    "    Hist1 = File1.Get(HistogramName)\n",
    "    Hist2 = File2.Get(HistogramName)\n",
    "\n",
    "    Hist1.Rebin(Rebin)\n",
    "    Hist2.Rebin(Rebin)\n",
    "\n",
    "    Hist1.Scale(1 / File1.Get(\"HCount\").GetBinContent(1))\n",
    "\n",
    "    Norm2 = File2.Get(\"HCount\").GetBinContent(NormIndex)\n",
    "    if Norm2 == 0:\n",
    "        Norm2 = File2.Get(\"HCount\").GetBinContent(1)\n",
    "    Hist2.Scale(1 / Norm2)\n",
    "\n",
    "    OutputFile.cd()\n",
    "    Hist = Hist1.Clone(OutputHistogramName)\n",
    "    Hist.Add(Hist2, -1)\n",
    "    Hist.Write()\n",
    "    \n",
    "    File2.Close()\n",
    "    File1.Close()"
   ]
  },
  {
   "cell_type": "code",
   "execution_count": 29,
   "id": "54178cb8-2cc6-49b0-bb3e-85eaf2f7a597",
   "metadata": {},
   "outputs": [],
   "source": [
    "PbPbFileOutput = ROOT.TFile(\"PbPbDataxPbPbData_Combined.root\", \"RECREATE\")\n",
    "\n",
    "Track = [\"12\", \"24\", \"4inf\"]\n",
    "Centrality = [\"030\", \"3050\", \"5090\", \"090\"]\n",
    "\n",
    "for iT in Track:\n",
    "    for iC in Centrality:\n",
    "        GetHistogram(PbPbFileOutput, f\"HDeltaPhi_AllZ_Track{iT}_Centrality{iC}\",     f\"PbPbDataxPbPbData_Centrality{iC}_Reco{iT}.root\", f\"PbPbDataxPbPbData_Centrality{iC}_Reco{iT}_Different.root\", \"HZHPhi\",  12, 1)\n",
    "        GetHistogram(PbPbFileOutput, f\"HDeltaPhi_CentralZ_Track{iT}_Centrality{iC}\", f\"PbPbDataxPbPbData_Centrality{iC}_Reco{iT}.root\", f\"PbPbDataxPbPbData_Centrality{iC}_Reco{iT}_Different.root\", \"HCZHPhi\", 12, 7)\n",
    "        GetHistogram(PbPbFileOutput, f\"HDeltaPhi_ForwardZ_Track{iT}_Centrality{iC}\", f\"PbPbDataxPbPbData_Centrality{iC}_Reco{iT}.root\", f\"PbPbDataxPbPbData_Centrality{iC}_Reco{iT}_Different.root\", \"HPZHPhi\", 12, 8)\n",
    "\n",
    "PbPbFileOutput.Close()"
   ]
  },
  {
   "cell_type": "code",
   "execution_count": 16,
   "id": "5f51231b-7020-4b04-84b5-d7b5f2e116ef",
   "metadata": {},
   "outputs": [],
   "source": [
    "PPFileOutput = ROOT.TFile(\"PPDataxPPData_Combined.root\", \"RECREATE\")\n",
    "\n",
    "Track = [\"12\", \"24\", \"4inf\"]\n",
    "Centrality = [\"030\", \"3050\", \"5090\", \"090\"]\n",
    "\n",
    "for iT in Track:\n",
    "    for iC in Centrality:\n",
    "        GetHistogram(PPFileOutput, f\"HDeltaPhi_AllZ_Track{iT}_Centrality{iC}\",     f\"PPDataxPPData_Reco{iT}.root\", f\"PPDataxPPData_Reco{iT}_Different.root\", \"HZHPhi\",  12, 1)\n",
    "        GetHistogram(PPFileOutput, f\"HDeltaPhi_CentralZ_Track{iT}_Centrality{iC}\", f\"PPDataxPPData_Reco{iT}.root\", f\"PPDataxPPData_Reco{iT}_Different.root\", \"HCZHPhi\", 12, 7)\n",
    "        GetHistogram(PPFileOutput, f\"HDeltaPhi_ForwardZ_Track{iT}_Centrality{iC}\", f\"PPDataxPPData_Reco{iT}.root\", f\"PPDataxPPData_Reco{iT}_Different.root\", \"HPZHPhi\", 12, 8)\n",
    "\n",
    "PPFileOutput.Close()"
   ]
  }
 ],
 "metadata": {
  "kernelspec": {
   "display_name": "Python 3 (ipykernel)",
   "language": "python",
   "name": "python3"
  },
  "language_info": {
   "codemirror_mode": {
    "name": "ipython",
    "version": 3
   },
   "file_extension": ".py",
   "mimetype": "text/x-python",
   "name": "python",
   "nbconvert_exporter": "python",
   "pygments_lexer": "ipython3",
   "version": "3.12.3"
  }
 },
 "nbformat": 4,
 "nbformat_minor": 5
}
